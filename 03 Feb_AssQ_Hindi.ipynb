{
 "cells": [
  {
   "cell_type": "markdown",
   "id": "e954866b-fa5c-4471-9b17-fb291650e207",
   "metadata": {},
   "source": [
    "Q1. Which keyword is used to create a function? Create a function to return a list of odd numbers in the\n",
    "range of 1 to 25."
   ]
  },
  {
   "cell_type": "code",
   "execution_count": 8,
   "id": "5401f7d1-9c76-4d0e-a6ce-355ea433522e",
   "metadata": {},
   "outputs": [],
   "source": [
    "#In Python, the def keyword is used to create a function.\n",
    "\n",
    "def odd_number(n):\n",
    "    l1=[]\n",
    "    for i in range(1,n+1):\n",
    "        if i%2!=0:\n",
    "            l1.append(i)\n",
    "    return(l1)"
   ]
  },
  {
   "cell_type": "code",
   "execution_count": 9,
   "id": "c6cbed0c-63bf-4d75-8487-5d1c2a2ff14f",
   "metadata": {},
   "outputs": [
    {
     "data": {
      "text/plain": [
       "[1, 3, 5, 7, 9, 11, 13, 15, 17, 19, 21, 23, 25]"
      ]
     },
     "execution_count": 9,
     "metadata": {},
     "output_type": "execute_result"
    }
   ],
   "source": [
    "#coll the function to get a list of odd number\n",
    "\n",
    "odd_number(25)"
   ]
  },
  {
   "cell_type": "raw",
   "id": "1b4550d7-62d5-4f39-bcba-0f48dfbedf42",
   "metadata": {},
   "source": []
  },
  {
   "cell_type": "markdown",
   "id": "2fdc8c12-93a9-4fa0-8787-14f24a2ca2a5",
   "metadata": {},
   "source": [
    "Q2. Why *args and **kwargs is used in some functions? Create a function each for *args and **kwargs\n",
    "to demonstrate their use."
   ]
  },
  {
   "cell_type": "raw",
   "id": "04960fb8-93b7-455b-97f4-ffe5d313cfed",
   "metadata": {},
   "source": [
    "*args and **kwargs are used in Python functions to handle a variable number of arguments and keyword arguments, respectively. They are often used when you don't know in advance how many arguments or keyword arguments will be passed to a function."
   ]
  },
  {
   "cell_type": "code",
   "execution_count": 10,
   "id": "8ac70ac9-d644-40a6-867f-9959da63e52d",
   "metadata": {},
   "outputs": [
    {
     "name": "stdout",
     "output_type": "stream",
     "text": [
      "6\n"
     ]
    }
   ],
   "source": [
    "# using *args\n",
    "\n",
    "def sum_numbers(*args):\n",
    "    result = 0\n",
    "    for num in args:\n",
    "        result += num\n",
    "    return result\n",
    "\n",
    "# Call the function with different numbers of arguments\n",
    "print(sum_numbers(1, 2, 3))"
   ]
  },
  {
   "cell_type": "code",
   "execution_count": 19,
   "id": "3d43b417-5669-4df1-9161-8e5ee0d86845",
   "metadata": {},
   "outputs": [],
   "source": [
    "# using **kwargs\n",
    "\n",
    "def person_info(**kwargs):\n",
    "    for k, v in kwargs.items():\n",
    "        print(f\"{k}:{v}\")"
   ]
  },
  {
   "cell_type": "code",
   "execution_count": 20,
   "id": "cd028015-2a5a-484b-87de-63ab4c33fb7a",
   "metadata": {},
   "outputs": [
    {
     "name": "stdout",
     "output_type": "stream",
     "text": [
      "name:ravi kumar pal\n",
      "age:23\n",
      "city:allahabad\n"
     ]
    }
   ],
   "source": [
    "person_info(name=\"ravi kumar pal\",age=\"23\",city=\"allahabad\")"
   ]
  },
  {
   "cell_type": "raw",
   "id": "b4fbd145-0b9b-40ea-addd-ce5fad89cb3a",
   "metadata": {},
   "source": []
  },
  {
   "cell_type": "markdown",
   "id": "fbda97c2-3701-4bea-9610-2db15e29862f",
   "metadata": {},
   "source": [
    "Q3. What is an iterator in python? Name the method used to initialise the iterator object and the method\n",
    "used for iteration. Use these methods to print the first five elements of the given list [2, 4, 6, 8, 10, 12, 14,\n",
    "16, 18, 20]."
   ]
  },
  {
   "cell_type": "raw",
   "id": "d9f01051-e25e-4d71-9411-020778c8c0e5",
   "metadata": {},
   "source": [
    "In Python, an iterator is an object that represents a stream of data. It allows you to iterate (loop) over the elements of a collection or sequence one at a time, without loading the entire collection into memory. \n",
    "\n",
    "Initialization Method: You use the iter() function to create an iterator object from an iterable. An iterable can be a list, tuple, string, or any object that can be looped over.\n",
    "\n",
    "Iteration Method: You use the next() function to retrieve the next element from the iterator. This method advances the iterator to the next element in the sequence."
   ]
  },
  {
   "cell_type": "code",
   "execution_count": 21,
   "id": "2254c840-217a-498a-a2ac-064b2eeaedfe",
   "metadata": {},
   "outputs": [
    {
     "name": "stdout",
     "output_type": "stream",
     "text": [
      "2\n",
      "4\n",
      "6\n",
      "8\n",
      "10\n"
     ]
    }
   ],
   "source": [
    "# Create an iterator from the list\n",
    "my_list = [2, 4, 6, 8, 10, 12, 14, 16, 18, 20]\n",
    "my_iterator = iter(my_list)\n",
    "\n",
    "# Print the first five elements\n",
    "for i in range(5):\n",
    "    element = next(my_iterator)\n",
    "    print(element)\n"
   ]
  },
  {
   "cell_type": "raw",
   "id": "e734fe36-5e5b-4720-a363-e094181c652b",
   "metadata": {},
   "source": []
  },
  {
   "cell_type": "markdown",
   "id": "da7aadf8-1ba7-46a5-b762-896c29e8cc4d",
   "metadata": {},
   "source": [
    "Q4. What is a generator function in python? Why yield keyword is used? Give an example of a generator\n",
    "function."
   ]
  },
  {
   "cell_type": "raw",
   "id": "11756f7b-4b45-490a-b94f-f2a04ed47f92",
   "metadata": {},
   "source": [
    "A generator function in Python is a special type of function that allows you to create iterators in a more convenient and memory-efficient way. Instead of computing and storing all the values in memory at once, a generator function produces values on-the-fly as you iterate over them. This can be very useful for working with large datasets or infinite sequences.\n",
    "\n",
    "\n",
    "The yield keyword is used in a generator function to specify where the function's state should be saved, allowing it to be resumed from that point the next time it's called."
   ]
  },
  {
   "cell_type": "code",
   "execution_count": 23,
   "id": "42aa0832-0059-4f07-ba6a-33786c783a6e",
   "metadata": {},
   "outputs": [
    {
     "name": "stdout",
     "output_type": "stream",
     "text": [
      "5\n",
      "4\n",
      "3\n",
      "2\n",
      "1\n"
     ]
    }
   ],
   "source": [
    "def countdown(n):\n",
    "    while n > 0:\n",
    "        yield n\n",
    "        n -= 1\n",
    "\n",
    "# Create a generator object\n",
    "counter = countdown(5)\n",
    "\n",
    "# Iterate and print values\n",
    "for value in counter:\n",
    "    print(value)\n"
   ]
  },
  {
   "cell_type": "raw",
   "id": "2bb76a01-7b79-4017-998d-55ab8851c146",
   "metadata": {},
   "source": []
  },
  {
   "cell_type": "markdown",
   "id": "c5155ca6-40cb-4d2e-85eb-04d4a0c73910",
   "metadata": {},
   "source": [
    "Q5. Create a generator function for prime numbers less than 1000. Use the next() method to print the\n",
    "first 20 prime numbers."
   ]
  },
  {
   "cell_type": "code",
   "execution_count": 7,
   "id": "db9e4709-62eb-4cc8-a613-fd879db1c439",
   "metadata": {},
   "outputs": [],
   "source": [
    "def gen():\n",
    "    counter=0\n",
    "    i=2\n",
    "    # while loop running until find the 20 prime number \n",
    "    while counter<20: \n",
    "        j=2\n",
    "        # nested while loop for checking the number is prime number or not\n",
    "        while j<i:\n",
    "            if i%j==0:\n",
    "                break\n",
    "            j+=1\n",
    "        if(j==i):\n",
    "            yield i\n",
    "            counter+=1\n",
    "        i+=1\n"
   ]
  },
  {
   "cell_type": "code",
   "execution_count": 8,
   "id": "c4318fd1-4f60-4db1-9b39-87402d37c39f",
   "metadata": {},
   "outputs": [],
   "source": [
    "# Create a generator object\n",
    "prime = gen()"
   ]
  },
  {
   "cell_type": "code",
   "execution_count": 9,
   "id": "70872d23-e614-4407-92f1-abcaae69345c",
   "metadata": {},
   "outputs": [
    {
     "name": "stdout",
     "output_type": "stream",
     "text": [
      "2\n",
      "3\n",
      "5\n",
      "7\n",
      "11\n",
      "13\n",
      "17\n",
      "19\n",
      "23\n",
      "29\n",
      "31\n",
      "37\n",
      "41\n",
      "43\n",
      "47\n",
      "53\n",
      "59\n",
      "61\n",
      "67\n",
      "71\n"
     ]
    }
   ],
   "source": [
    "# Use next() method to print the first 20 prime numbers\n",
    "for _ in range(20):\n",
    "    print(next(prime))"
   ]
  },
  {
   "cell_type": "code",
   "execution_count": 10,
   "id": "748cda47-468f-4036-9ce5-c625b87dab5c",
   "metadata": {},
   "outputs": [
    {
     "name": "stdout",
     "output_type": "stream",
     "text": [
      "2\n",
      "3\n",
      "5\n",
      "7\n",
      "11\n",
      "13\n",
      "17\n",
      "19\n",
      "23\n",
      "29\n",
      "31\n",
      "37\n",
      "41\n",
      "43\n",
      "47\n",
      "53\n",
      "59\n",
      "61\n",
      "67\n",
      "71\n"
     ]
    }
   ],
   "source": [
    "def is_prime(number):\n",
    "    if number <= 1:\n",
    "        return False\n",
    "    if number <= 3:\n",
    "        return True\n",
    "    i=2\n",
    "    while( i<number):\n",
    "        if(number%i==0):\n",
    "            return False\n",
    "        i+=1\n",
    "    return True\n",
    "    \n",
    "\n",
    "def prime_generator():\n",
    "    yield 2\n",
    "    yield 3\n",
    "    num = 5\n",
    "    count = 2  # Count 2 and 3 as the first two prime numbers\n",
    "    while count < 20:\n",
    "        if is_prime(num):\n",
    "            yield num\n",
    "            count += 1\n",
    "        num += 2\n",
    "\n",
    "# Create a generator object\n",
    "prime_gen = prime_generator()\n",
    "\n",
    "# Use next() method to print the first 20 prime numbers\n",
    "for _ in range(20):\n",
    "    print(next(prime_gen))\n"
   ]
  },
  {
   "cell_type": "raw",
   "id": "bb6376b9-5802-4244-a010-483dac7371e8",
   "metadata": {},
   "source": []
  },
  {
   "cell_type": "markdown",
   "id": "2a26090f-246f-4362-8e2d-077ab8ce6af8",
   "metadata": {},
   "source": [
    "Q6. Write a python program to print the first 10 Fibonacci numbers using a while loop."
   ]
  },
  {
   "cell_type": "code",
   "execution_count": 17,
   "id": "15c072fa-ca8d-4613-91fb-9f1dde164435",
   "metadata": {},
   "outputs": [],
   "source": [
    "def fib():\n",
    "    a,b=0,1\n",
    "    while True:\n",
    "        yield a\n",
    "        a,b=b,a+b"
   ]
  },
  {
   "cell_type": "code",
   "execution_count": 18,
   "id": "748d3b73-6ee3-4efc-a203-60a7527f38fd",
   "metadata": {},
   "outputs": [],
   "source": [
    "# Create a generator object\n",
    "fib_num=fib()"
   ]
  },
  {
   "cell_type": "code",
   "execution_count": 19,
   "id": "9a6f3c52-c395-4888-9c3d-22d8e1754489",
   "metadata": {},
   "outputs": [
    {
     "name": "stdout",
     "output_type": "stream",
     "text": [
      "0\n",
      "1\n",
      "1\n",
      "2\n",
      "3\n",
      "5\n",
      "8\n",
      "13\n",
      "21\n",
      "34\n"
     ]
    }
   ],
   "source": [
    "# Use next() method to print the first 10 fibonacci numbers\n",
    "for _ in range(10):\n",
    "    print(next(fib_num))"
   ]
  },
  {
   "cell_type": "raw",
   "id": "6ae7cfab-faba-457f-b582-afd259024576",
   "metadata": {},
   "source": []
  },
  {
   "cell_type": "markdown",
   "id": "362158a4-3f37-4ee8-a284-cecc350e8de0",
   "metadata": {},
   "source": [
    "Q7. Write a List Comprehension to iterate through the given string: ‘pwskills’.\n",
    "Expected output: ['p', 'w', 's', 'k', 'i', 'l', 'l', 's']"
   ]
  },
  {
   "cell_type": "code",
   "execution_count": 28,
   "id": "500e8c40-f90b-497a-9ce0-7950cf081d00",
   "metadata": {},
   "outputs": [],
   "source": [
    "s=\"pwskills\""
   ]
  },
  {
   "cell_type": "code",
   "execution_count": 29,
   "id": "56402558-13fd-4730-b828-b84022d7059e",
   "metadata": {},
   "outputs": [
    {
     "data": {
      "text/plain": [
       "['p', 'w', 's', 'k', 'i', 'l', 'l', 's']"
      ]
     },
     "execution_count": 29,
     "metadata": {},
     "output_type": "execute_result"
    }
   ],
   "source": [
    "[ i for i in s]"
   ]
  },
  {
   "cell_type": "raw",
   "id": "ad47b667-d738-4e00-bb40-d18497b8a96d",
   "metadata": {},
   "source": []
  },
  {
   "cell_type": "markdown",
   "id": "e43377ad-39da-4548-ae9f-94a3cc099ecd",
   "metadata": {},
   "source": [
    "Q8. Write a python program to check whether a given number is Palindrome or not using a while loop."
   ]
  },
  {
   "cell_type": "code",
   "execution_count": 32,
   "id": "c5af3ec2-9ee9-4068-92cb-6deea6e57ff6",
   "metadata": {},
   "outputs": [],
   "source": [
    "def is_palindrome(number):\n",
    "    original_number = number\n",
    "    reversed_number = 0\n",
    "\n",
    "    while number > 0:\n",
    "        digit = number % 10\n",
    "        reversed_number = reversed_number * 10 + digit\n",
    "        number //= 10\n",
    "\n",
    "    return original_number == reversed_number"
   ]
  },
  {
   "cell_type": "code",
   "execution_count": 33,
   "id": "b203f633-b9fe-43e6-a038-6193facd6db5",
   "metadata": {},
   "outputs": [
    {
     "name": "stdin",
     "output_type": "stream",
     "text": [
      "Enter a number:  45654\n"
     ]
    },
    {
     "name": "stdout",
     "output_type": "stream",
     "text": [
      "45654 is a palindrome.\n"
     ]
    }
   ],
   "source": [
    "# Input a number from the user\n",
    "num = int(input(\"Enter a number: \"))\n",
    "\n",
    "if is_palindrome(num):\n",
    "    print(f\"{num} is a palindrome.\")\n",
    "else:\n",
    "    print(f\"{num} is not a palindrome.\")"
   ]
  },
  {
   "cell_type": "raw",
   "id": "c5fb2a2b-366a-4cb5-bd15-881c92c83eeb",
   "metadata": {},
   "source": []
  },
  {
   "cell_type": "code",
   "execution_count": null,
   "id": "54429389-726d-469e-ac18-314b6cd230d0",
   "metadata": {},
   "outputs": [],
   "source": []
  },
  {
   "cell_type": "code",
   "execution_count": 35,
   "id": "e2593fdc-4991-42b6-9fba-8cac3d706696",
   "metadata": {},
   "outputs": [],
   "source": [
    "# Create a list of numbers from 1 to 100\n",
    "numbers = [x for x in range(1, 101)]"
   ]
  },
  {
   "cell_type": "code",
   "execution_count": 36,
   "id": "2557d4f5-7bba-43ca-9fe2-e76b5de1b768",
   "metadata": {},
   "outputs": [],
   "source": [
    "# Use a list comprehension to filter out odd numbers\n",
    "odd_numbers = [x for x in numbers if x % 2 != 0]"
   ]
  },
  {
   "cell_type": "code",
   "execution_count": 37,
   "id": "81f6e483-cdbc-4844-8f0a-1241be00aa60",
   "metadata": {},
   "outputs": [
    {
     "name": "stdout",
     "output_type": "stream",
     "text": [
      "[1, 3, 5, 7, 9, 11, 13, 15, 17, 19, 21, 23, 25, 27, 29, 31, 33, 35, 37, 39, 41, 43, 45, 47, 49, 51, 53, 55, 57, 59, 61, 63, 65, 67, 69, 71, 73, 75, 77, 79, 81, 83, 85, 87, 89, 91, 93, 95, 97, 99]\n"
     ]
    }
   ],
   "source": [
    "# Print the list of odd numbers\n",
    "print(odd_numbers)"
   ]
  },
  {
   "cell_type": "code",
   "execution_count": null,
   "id": "e2d8f2be-9b43-4054-8a39-02b1bdc100ac",
   "metadata": {},
   "outputs": [],
   "source": []
  }
 ],
 "metadata": {
  "kernelspec": {
   "display_name": "Python 3 (ipykernel)",
   "language": "python",
   "name": "python3"
  },
  "language_info": {
   "codemirror_mode": {
    "name": "ipython",
    "version": 3
   },
   "file_extension": ".py",
   "mimetype": "text/x-python",
   "name": "python",
   "nbconvert_exporter": "python",
   "pygments_lexer": "ipython3",
   "version": "3.10.8"
  }
 },
 "nbformat": 4,
 "nbformat_minor": 5
}
